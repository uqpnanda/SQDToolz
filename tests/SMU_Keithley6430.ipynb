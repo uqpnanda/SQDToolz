{
 "cells": [
  {
   "cell_type": "code",
   "execution_count": 1,
   "metadata": {},
   "outputs": [],
   "source": [
    "%load_ext autoreload\n",
    "%autoreload 2"
   ]
  },
  {
   "cell_type": "code",
   "execution_count": null,
   "metadata": {},
   "outputs": [],
   "source": [
    "from sqdtoolz.Experiment import Experiment\n",
    "from sqdtoolz.HAL.GENvoltSource import*\n",
    "from sqdtoolz.ExperimentConfiguration import*\n",
    "from sqdtoolz.Laboratory import*\n",
    "import qcodes as qc\n",
    "import sqdtoolz as stz"
   ]
  },
  {
   "cell_type": "code",
   "execution_count": null,
   "metadata": {},
   "outputs": [
    {
     "ename": "NameError",
     "evalue": "name 'Laboratory' is not defined",
     "output_type": "error",
     "traceback": [
      "\u001b[1;31m---------------------------------------------------------------------------\u001b[0m",
      "\u001b[1;31mNameError\u001b[0m                                 Traceback (most recent call last)",
      "Cell \u001b[1;32mIn[1], line 1\u001b[0m\n\u001b[1;32m----> 1\u001b[0m lab \u001b[38;5;241m=\u001b[39m \u001b[43mLaboratory\u001b[49m(instr_config_file\u001b[38;5;241m=\u001b[39m \u001b[38;5;124m'\u001b[39m\u001b[38;5;124mSMU_Keithley6430.yaml\u001b[39m\u001b[38;5;124m'\u001b[39m, save_dir\u001b[38;5;241m=\u001b[39m\u001b[38;5;124mr\u001b[39m\u001b[38;5;124m\"\u001b[39m\u001b[38;5;124mC:\u001b[39m\u001b[38;5;124m\\\u001b[39m\u001b[38;5;124mUsers\u001b[39m\u001b[38;5;124m\\\u001b[39m\u001b[38;5;124mEricHe\u001b[39m\u001b[38;5;124m\\\u001b[39m\u001b[38;5;124mAQ Circuits\u001b[39m\u001b[38;5;124m\\\u001b[39m\u001b[38;5;124mOperations - Documents\u001b[39m\u001b[38;5;124m\\\u001b[39m\u001b[38;5;124mOperations\u001b[39m\u001b[38;5;124m\\\u001b[39m\u001b[38;5;124mDevice generations\u001b[39m\u001b[38;5;124m\\\u001b[39m\u001b[38;5;124mAQC16\u001b[39m\u001b[38;5;124m\\\u001b[39m\u001b[38;5;124mData\u001b[39m\u001b[38;5;124m\"\u001b[39m)\n",
      "\u001b[1;31mNameError\u001b[0m: name 'Laboratory' is not defined"
     ]
    }
   ],
   "source": [
    "lab = Laboratory(instr_config_file= 'SMU_Keithley6430.yaml', save_dir=r\"%USERPROFILE%/AQ Circuits/Operations - Documents/Data from UQ 2022 to 2024/Hardware/Instruments_testbed\")"
   ]
  },
  {
   "cell_type": "code",
   "execution_count": 3,
   "metadata": {},
   "outputs": [
    {
     "name": "stdout",
     "output_type": "stream",
     "text": [
      "Connected to: KEITHLEY INSTRUMENTS INC. 6430 (serial:4037337, firmware:C28   Jun 13 2011 12:31:43/A02  /F/B) in 0.59s\n"
     ]
    }
   ],
   "source": [
    "lab.load_instrument('smu')"
   ]
  },
  {
   "cell_type": "code",
   "execution_count": 4,
   "metadata": {},
   "outputs": [],
   "source": [
    "smu_module = GENsmu('vSMU', lab, ['smu'])"
   ]
  },
  {
   "cell_type": "code",
   "execution_count": 5,
   "metadata": {},
   "outputs": [],
   "source": [
    "lab.HAL('vSMU').Mode = 'SrcI_MeasV'\n",
    "lab.HAL('vSMU').Output = True\n",
    "lab.HAL('vSMU').RampRateVoltage = 0.01\n",
    "lab.HAL('vSMU').RampRateCurrent = 0.01\n",
    "lab.HAL('vSMU').ComplianceCurrent = 0.1"
   ]
  },
  {
   "cell_type": "code",
   "execution_count": 6,
   "metadata": {},
   "outputs": [],
   "source": [
    "lab.HAL('vSMU').ProbeType = 'FourWire'"
   ]
  },
  {
   "cell_type": "code",
   "execution_count": 7,
   "metadata": {},
   "outputs": [
    {
     "data": {
      "text/plain": [
       "<sqdtoolz.ExperimentConfiguration.ExperimentConfiguration at 0x20fc0be6b20>"
      ]
     },
     "execution_count": 7,
     "metadata": {},
     "output_type": "execute_result"
    }
   ],
   "source": [
    "stz.VariableProperty('V_jj', lab, lab.HAL('vSMU'), 'Voltage')\n",
    "stz.VariableProperty('I_jj', lab, lab.HAL('vSMU'), 'Current')\n",
    "stz.ExperimentConfiguration('I_sweep', lab, 0, ['vSMU'])"
   ]
  },
  {
   "cell_type": "code",
   "execution_count": 9,
   "metadata": {},
   "outputs": [
    {
     "name": "stdout",
     "output_type": "stream",
     "text": [
      " |██████████████████████████████████████████████████| 100.0% Total time: 26.43s, Est. time left: 0.00s      \n"
     ]
    }
   ],
   "source": [
    "current_sweep = np.arange(0, 24e-6, 2e-6)\n",
    "\n",
    "I_sweep = stz.Experiment(\"4_wire_Isweep\", lab.CONFIG('I_sweep'))\n",
    "\n",
    "leData = lab.run_single(I_sweep, [(lab.VAR('I_jj'), current_sweep)], \n",
    "                        rec_params = [(lab.HAL('vSMU'), 'SenseVoltage')], delay=0.2)"
   ]
  },
  {
   "cell_type": "code",
   "execution_count": 27,
   "metadata": {},
   "outputs": [],
   "source": [
    "lab.HAL('vSMU').Output = False"
   ]
  },
  {
   "cell_type": "markdown",
   "metadata": {},
   "source": [
    "# Test resistor measurement"
   ]
  },
  {
   "cell_type": "code",
   "execution_count": null,
   "metadata": {},
   "outputs": [
    {
     "name": "stdout",
     "output_type": "stream",
     "text": [
      "3.978kOhms\n"
     ]
    },
    {
     "data": {
      "image/png": "[encoded data removed]",
      "text/plain": [
       "<Figure size 640x480 with 1 Axes>"
      ]
     },
     "metadata": {},
     "output_type": "display_data"
    }
   ],
   "source": [
    "arr = I_sweep.last_rec_params.get_numpy_array()\n",
    "i_vals = I_sweep.last_rec_params.param_vals[0]\n",
    "v_vals = arr[:,0]\n",
    "\n",
    "m,b = np.polyfit(v_vals, i_vals, 1)\n",
    "fit_currents = m*v_vals+b\n",
    "resistance = 1/abs(m)   \n",
    "\n",
    "plt.plot(i_vals, v_vals, 'kx')\n",
    "plt.plot(fit_currents, v_vals, 'r')\n",
    "plt.xlabel('Voltage (V)')\n",
    "plt.ylabel('Currents (A)')\n",
    "print(f'{(resistance/1000):0.3f}kOhms')"
   ]
  },
  {
   "cell_type": "code",
   "execution_count": null,
   "metadata": {},
   "outputs": [],
   "source": []
  }
 ],
 "metadata": {
  "kernelspec": {
   "display_name": "sqdtoolz_env",
   "language": "python",
   "name": "python3"
  },
  "language_info": {
   "codemirror_mode": {
    "name": "ipython",
    "version": 3
   },
   "file_extension": ".py",
   "mimetype": "text/x-python",
   "name": "python",
   "nbconvert_exporter": "python",
   "pygments_lexer": "ipython3",
   "version": "3.9.20"
  }
 },
 "nbformat": 4,
 "nbformat_minor": 2
}
